{
  "nbformat": 4,
  "nbformat_minor": 0,
  "metadata": {
    "colab": {
      "name": "Ejercicio 2 - MPI.ipynb",
      "provenance": [],
      "include_colab_link": true
    },
    "kernelspec": {
      "name": "python3",
      "display_name": "Python 3"
    }
  },
  "cells": [
    {
      "cell_type": "markdown",
      "metadata": {
        "id": "view-in-github",
        "colab_type": "text"
      },
      "source": [
        "<a href=\"https://colab.research.google.com/github/ManuelR-D/PrograCTP2/blob/main/Ejercicios_2_MPI.ipynb\" target=\"_parent\"><img src=\"https://colab.research.google.com/assets/colab-badge.svg\" alt=\"Open In Colab\"/></a>"
      ]
    },
    {
      "cell_type": "markdown",
      "metadata": {
        "id": "sMZqDYYBzCLe"
      },
      "source": [
        "# Programacion Concurrente TP2 Parte2 MPI \n",
        "\n",
        "Para este ejercicio se ha optado por aplicar el tema teórico **MPI** (Message Passing Interface). La finalidad del ejercicio es ampliar el conocimiento sobras la manera que posee Python para implementar la comunicación entre distintos procesos con el uso de una librería denominada **MPI4py** [1]. Para más información puede consultar la última revisión en [2].\n",
        "\n",
        "Este ejercicio fue presentado por alumnos del curso 2020."
      ]
    },
    {
      "cell_type": "markdown",
      "source": [
        "---\n",
        "## 2.1. Ejercicio - Hola Mundo con MPI\n"
      ],
      "metadata": {
        "id": "yE4nz1TozCQO"
      }
    },
    {
      "cell_type": "markdown",
      "source": [
        "### 2.1.1. Preguntas del ejercicio\n",
        "\n",
        "Ejecute este ejemplo para $4$ o más instancias y responda:\n",
        "\n",
        "a) ¿Qué función realiza la instancia maestra? ¿Qué función realizan las instancias esclavas?\n",
        "\n",
        "La instancia maestra inicializa a las esclavas, luego les envia mensajes para que ejecuten un trabajo: se envia un mensaje a cada instancia esclava con un numero aleatorio entre `Min_tiempo_sleep` y `Max_tiempo_sleep`. Luego se queda esperando un receive del trabajo hecho por cada instancia esclava y finalmente suma a un contador la cantidad de trabajo hecho. Esto se repite en loop hasta que se reparte todo el trabajo.\n",
        "\n",
        "Las instancias esclavas ejecutan el metodo `doWork()` el cual implica hacer un receive del mensaje enviado por la instancia maestra el cual contiene un numero, luego se suspende la ejecucion durante una cantidad de tiempo igual a ese numero y finalmente se envia un mensaje a la instancia maestra de que se termino de ejecutar el trabajo.\n",
        "\n",
        "b) ¿Cuántas de esas instancias ejecuta la función `main()`, `initWork()` y `doWork()`?\n",
        "\n",
        "Todas las instancias (4) ejecutan `main()`. Solo la maestra (1) ejecuta `initWork()` y solo las esclavas (4-1) ejecutan `doWork()`\n",
        "\n",
        "c) ¿Cómo se diferencian los mensajes de trabajo o de finalización?\n",
        "\n",
        "Con el `tag` del status del trabajo. Cada mensaje tiene un tag que permite se leido para modificar el flujo de ejecucion.\n",
        "\n",
        "d) ¿Cómo implementaría la función BLAS `axpy()` con este patrón?¿Sería eficiente? *Tips*: Pide solo el planteo, no la implementación.\n",
        "\n",
        "Dado que hay que hacer una multiplicacion de un escalar por un vector, se podria hacer distribuir la longitud del vector de manera uniforme entre la cantidad de procesos (Map) y multiplicar cada posicion por el valor escalar. Luego juntar todos los resultados parciales en otro vector en la instancia maestra (Reduce *) utilizando mensajes para comunicar los resultados.\n",
        "\n",
        "Una estrategia similar se aplicaria a la suma de de los vectores. Se podria distribuir la longitud de los vectores de manera uniforme entre la cantidad de procesos, comunicar los valores por mensajes, hacer las sumas y luego reducir el resultado a otro vector en la instancia maestra usando otro mensaje para comunicar.\n",
        "\n",
        "e) ¿Qué sucede cuando solo ejecuta con una sola instancia?\n",
        "\n",
        "Nunca se ejecuta el metodo `doWork()` puesto que hay un condicional que impide que el proceso con `rank = 0` pueda ejecutarlo\n",
        "\n",
        "f) *Punto opcional*: El código que ejecutan las instancias esclavas, tienen un error en su lógica. ¿Cómo se podría solucionar?\n",
        "\n",
        "El send que hace el esclavo al maestro podria ser asincronico, puesto que el siguiente receive es sincronico y lo unico que debe esperar el esclavo es la respuesta del maestro con el nuevo trabajo a hacer. No hay necesidad por parte del esclavo de espera a que el maestro confirme la recepcion de su trabajo finalizado."
      ],
      "metadata": {
        "id": "AMFBYImZzLVo"
      }
    },
    {
      "cell_type": "markdown",
      "metadata": {
        "id": "r9TdOhH3zGsx"
      },
      "source": [
        "###2.1.2. Armado del ambiente\n",
        "\n",
        "Es en donde se instalar, por única vez, el módulo MPI4py de Python en el cuaderno."
      ]
    },
    {
      "cell_type": "code",
      "metadata": {
        "id": "DV_cRj3n4SF3",
        "colab": {
          "base_uri": "https://localhost:8080/"
        },
        "outputId": "f564111d-7398-4ca5-cad6-7db1249fa7b9"
      },
      "source": [
        "! pip install mpi4py"
      ],
      "execution_count": 1,
      "outputs": [
        {
          "output_type": "stream",
          "name": "stdout",
          "text": [
            "Looking in indexes: https://pypi.org/simple, https://us-python.pkg.dev/colab-wheels/public/simple/\n",
            "Collecting mpi4py\n",
            "  Downloading mpi4py-3.1.4.tar.gz (2.5 MB)\n",
            "\u001b[2K     \u001b[90m━━━━━━━━━━━━━━━━━━━━━━━━━━━━━━━━━━━━━━━━\u001b[0m \u001b[32m2.5/2.5 MB\u001b[0m \u001b[31m34.6 MB/s\u001b[0m eta \u001b[36m0:00:00\u001b[0m\n",
            "\u001b[?25h  Installing build dependencies ... \u001b[?25l\u001b[?25hdone\n",
            "  Getting requirements to build wheel ... \u001b[?25l\u001b[?25hdone\n",
            "  Preparing metadata (pyproject.toml) ... \u001b[?25l\u001b[?25hdone\n",
            "Building wheels for collected packages: mpi4py\n",
            "  Building wheel for mpi4py (pyproject.toml) ... \u001b[?25l\u001b[?25hdone\n",
            "  Created wheel for mpi4py: filename=mpi4py-3.1.4-cp310-cp310-linux_x86_64.whl size=3365632 sha256=bab6452867e76a907397531f1022ab8604391f1cfddd0d7a64b1893e31a30459\n",
            "  Stored in directory: /root/.cache/pip/wheels/e8/1b/b5/97ec4cfccdde26e0f3590ad6e09a5242d508dff09704ef86c1\n",
            "Successfully built mpi4py\n",
            "Installing collected packages: mpi4py\n",
            "Successfully installed mpi4py-3.1.4\n"
          ]
        }
      ]
    },
    {
      "cell_type": "markdown",
      "source": [
        "### 2.1.3. Código del programa en Lenguaje Python "
      ],
      "metadata": {
        "id": "lgqoWIVPzZkY"
      }
    },
    {
      "cell_type": "code",
      "metadata": {
        "id": "tGvDuYLk4zpb",
        "colab": {
          "base_uri": "https://localhost:8080/"
        },
        "outputId": "2e59d96b-e0db-4e81-a1cc-fdd8206b5bee"
      },
      "source": [
        "%%writefile Ejercicio2.py\n",
        "from mpi4py import MPI\n",
        "import numpy as np\n",
        "import time\n",
        "\n",
        "# --------------------------------------------\n",
        "# Formulario\n",
        "Max_tiempo_sleep =   5#@param {type: \"slider\", min: 1, max: 10}\n",
        "Min_tiempo_sleep =   0#@param {type: \"slider\", min: 0, max: 10}\n",
        "# --------------------------------------------\n",
        "\n",
        "# --------------------------------------------\n",
        "# Constantes de comunicacion\n",
        "WORK_FLAG = 1\n",
        "END_WORK_FLAG = 2\n",
        "# --------------------------------------------\n",
        "\n",
        "def main():\n",
        "    comm = MPI.COMM_WORLD # Instanciamos el tipo de comunicador a utilizar.\n",
        "    id = comm.Get_rank()  # Obtenemos el id como atributo del proceso que se ejecuta.\n",
        "\n",
        "    # Utilizamos el 0 para definir al procesos Maestro, cualquier otro id sera un esclavo.\n",
        "    if (id == 0) :\n",
        "        init() # Llamamos funcion init para eventos que requeriremos inicialmente solo 1 vez.\n",
        "        numProcesses = comm.Get_size()  # Obtenemos el numero de procesos totales ejecutados.\n",
        "        numTasks = (numProcesses-1)*4 # Se setea el numero de tareas.\n",
        "        workTimes = generateTasks(numTasks) # Se generan las tareas, en este caso seran \n",
        "        print(\"El jefe crea {} horas de descanso de sus empleados:\".format(workTimes.size), flush=True)\n",
        "        print(workTimes, flush=True)\n",
        "        initWork(comm, workTimes, numProcesses)\n",
        "    else:\n",
        "        doWork(comm)\n",
        "\n",
        "def generateTasks(numTasks):\n",
        "    #TODO: Cambiar la semilla del random para que se generen efectivamente diferentes numeros.\n",
        "    np.random.seed(1000) \n",
        "    return np.random.randint(low=Min_tiempo_sleep, high=Max_tiempo_sleep, size=numTasks)\n",
        "\n",
        "def init():\n",
        "  print()\n",
        "  print(\"Version MPI4py utilizada: {}\".format(MPI.Get_version()), flush=True)\n",
        "  print()\n",
        "  print( \"------------------------------------\", flush=True)\n",
        "  print( \"Sistema de trabajo Suizo:\", flush=True)\n",
        "  print( \"------------------------------------\", flush=True)\n",
        "  print()\n",
        "\n",
        "def initWork(comm, workTimes, numProcesses):\n",
        "    totalWork = workTimes.size\n",
        "    workcount = 0\n",
        "    recvcount = 0\n",
        "\n",
        "    print(\"Jefe enviando las tareas iniciales:\", flush=True)\n",
        "    for id in range(1, numProcesses):\n",
        "        if workcount < totalWork:\n",
        "            work=workTimes[workcount]\n",
        "            comm.send(work, dest=id, tag=WORK_FLAG) # Envia mensaje de iniciar trabajo con el dato correspondiente del array.\n",
        "            workcount += 1\n",
        "            print(\"Jefe envia trabajo y {} hs de descanso al empleado {}.\".format(work, id), flush=True)\n",
        "    print( \"------------------------------------\", flush=True)\n",
        "\n",
        "    # Mientras haya trabajo, se recibe el resultado de los empleados y se sigue enviando MAS trabajo.\n",
        "    while (workcount < totalWork) :\n",
        "        stat = MPI.Status() \n",
        "        workTime = comm.recv(source=MPI.ANY_SOURCE, status=stat) # Recivimos resultados de los empleados.\n",
        "        recvcount += 1\n",
        "        workerId = stat.Get_source() # Obtenemos el identificador del empleado.\n",
        "        print(\"Jefe recibe trabajo completado {} del empleado {}.\".format(workTime, workerId), flush=True)\n",
        "        #send next work\n",
        "        work=workTimes[workcount]\n",
        "        comm.send(work, dest=workerId, tag=WORK_FLAG) \n",
        "        workcount += 1\n",
        "        print(\"Jefe envia nuevo trabajo y {} hs de descanso al empleado {}.\".format(work, workerId), flush=True)\n",
        "\n",
        "    while (recvcount < totalWork):\n",
        "        stat = MPI.Status()\n",
        "        workTime = comm.recv(source=MPI.ANY_SOURCE, status=stat)\n",
        "        recvcount += 1\n",
        "        workerId = stat.Get_source()\n",
        "        print(\"Jefe recibe trabajo completado {} del empleado {}.\".format(workTime, workerId), flush=True)\n",
        "\n",
        "    for id in range(1, numProcesses):\n",
        "        comm.send(0, dest=id, tag=END_WORK_FLAG)\n",
        "\n",
        "\n",
        "def doWork(comm):\n",
        "    while(True):\n",
        "        stat = MPI.Status() # Obtiene el estado actual del empleado.\n",
        "        waitTime = comm.recv(source=0, tag=MPI.ANY_TAG, status=stat) # Obtiene lo enviado por el Jefe.\n",
        "        print(\"Soy el empleado con id {}, toca descanzo por {} hs.\".format(comm.Get_rank(), waitTime), flush=True)\n",
        "\n",
        "        if (stat.Get_tag() == END_WORK_FLAG):\n",
        "            print(\"Marca tarjeta el empleado {}.\".format(comm.Get_rank()), flush=True)\n",
        "            return\n",
        "        time.sleep(waitTime)\n",
        "        comm.send(waitTime, dest=0)\n",
        "\n",
        "main()\n"
      ],
      "execution_count": 2,
      "outputs": [
        {
          "output_type": "stream",
          "name": "stdout",
          "text": [
            "Writing Ejercicio2.py\n"
          ]
        }
      ]
    },
    {
      "cell_type": "markdown",
      "metadata": {
        "id": "anJw5JH-443-"
      },
      "source": [
        "### 2.1.4 Ejecución del programa"
      ]
    },
    {
      "cell_type": "code",
      "metadata": {
        "id": "NTEtBCIa4-LP",
        "colab": {
          "base_uri": "https://localhost:8080/"
        },
        "outputId": "d3f64a8b-6f48-4b80-aa51-05add0338449"
      },
      "source": [
        "# --------------------------------------------\n",
        "#@title Parámetros de ejecución { vertical-output: true }\n",
        "NRO =   4#@param {type: \"number\"}\n",
        "# --------------------------------------------\n",
        "\n",
        "! mpirun --allow-run-as-root --oversubscribe -np $NRO python Ejercicio2.py"
      ],
      "execution_count": 3,
      "outputs": [
        {
          "output_type": "stream",
          "name": "stdout",
          "text": [
            "\n",
            "Version MPI4py utilizada: (3, 1)\n",
            "\n",
            "------------------------------------\n",
            "Sistema de trabajo Suizo:\n",
            "------------------------------------\n",
            "\n",
            "El jefe crea 12 horas de descanso de sus empleados:\n",
            "[3 0 3 4 1 0 1 0 1 4 3 4]\n",
            "Jefe enviando las tareas iniciales:\n",
            "Jefe envia trabajo y 3 hs de descanso al empleado 1.\n",
            "Jefe envia trabajo y 0 hs de descanso al empleado 2.\n",
            "Jefe envia trabajo y 3 hs de descanso al empleado 3.\n",
            "------------------------------------\n",
            "Soy el empleado con id 2, toca descanzo por 0 hs.\n",
            "Jefe recibe trabajo completado 0 del empleado 2.\n",
            "Jefe envia nuevo trabajo y 4 hs de descanso al empleado 2.\n",
            "Soy el empleado con id 2, toca descanzo por 4 hs.\n",
            "Soy el empleado con id 3, toca descanzo por 3 hs.\n",
            "Soy el empleado con id 1, toca descanzo por 3 hs.\n",
            "Jefe recibe trabajo completado 3 del empleado 3.\n",
            "Jefe envia nuevo trabajo y 1 hs de descanso al empleado 3.\n",
            "Soy el empleado con id 3, toca descanzo por 1 hs.\n",
            "Jefe recibe trabajo completado 3 del empleado 1.\n",
            "Soy el empleado con id 1, toca descanzo por 0 hs.\n",
            "Jefe envia nuevo trabajo y 0 hs de descanso al empleado 1.\n",
            "Jefe recibe trabajo completado 0 del empleado 1.\n",
            "Jefe envia nuevo trabajo y 1 hs de descanso al empleado 1.\n",
            "Soy el empleado con id 1, toca descanzo por 1 hs.\n",
            "Jefe recibe trabajo completado 4 del empleado 2.\n",
            "Jefe envia nuevo trabajo y 0 hs de descanso al empleado 2.\n",
            "Soy el empleado con id 2, toca descanzo por 0 hs.\n",
            "Jefe recibe trabajo completado 0 del empleado 2.\n",
            "Jefe envia nuevo trabajo y 1 hs de descanso al empleado 2.\n",
            "Soy el empleado con id 2, toca descanzo por 1 hs.\n",
            "Jefe recibe trabajo completado 1 del empleado 3.\n",
            "Jefe envia nuevo trabajo y 4 hs de descanso al empleado 3.\n",
            "Soy el empleado con id 3, toca descanzo por 4 hs.\n",
            "Jefe recibe trabajo completado 1 del empleado 1.\n",
            "Soy el empleado con id 1, toca descanzo por 3 hs.\n",
            "Jefe envia nuevo trabajo y 3 hs de descanso al empleado 1.\n",
            "Soy el empleado con id 2, toca descanzo por 4 hs.\n",
            "Jefe recibe trabajo completado 1 del empleado 2.\n",
            "Jefe envia nuevo trabajo y 4 hs de descanso al empleado 2.\n",
            "Jefe recibe trabajo completado 3 del empleado 1.\n",
            "Jefe recibe trabajo completado 4 del empleado 3.\n",
            "Jefe recibe trabajo completado 4 del empleado 2.\n",
            "Soy el empleado con id 2, toca descanzo por 0 hs.\n",
            "Marca tarjeta el empleado 2.\n",
            "Soy el empleado con id 3, toca descanzo por 0 hs.\n",
            "Soy el empleado con id 1, toca descanzo por 0 hs.\n",
            "Marca tarjeta el empleado 1.\n",
            "Marca tarjeta el empleado 3.\n"
          ]
        }
      ]
    },
    {
      "cell_type": "markdown",
      "metadata": {
        "id": "ChP75EDxI89c"
      },
      "source": [
        "---\n",
        "# Bibliografía\n",
        "\n",
        "[1] MPI4py: https://mpi4py.readthedocs.io/en/stable/\n",
        "\n",
        "[2] La versión oficial de MPI (Versión 4): https://www.mpi-forum.org/docs/mpi-4.0/mpi40-report.pdf\n",
        "\n"
      ]
    }
  ]
}